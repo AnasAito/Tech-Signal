{
 "cells": [
  {
   "cell_type": "code",
   "execution_count": 46,
   "metadata": {},
   "outputs": [
    {
     "data": {
      "text/plain": [
       "{'data': {'Article': []}}"
      ]
     },
     "execution_count": 46,
     "metadata": {},
     "output_type": "execute_result"
    }
   ],
   "source": [
    "import os\n",
    "import jwt\n",
    "import json\n",
    "import logging\n",
    "import requests\n",
    "from typing import Optional\n",
    "from dataclasses import dataclass, asdict\n",
    "\n",
    "\n",
    "HASURA_ADMIN_SECRET = '' # request it from anasio !\n",
    "HASURA_URL = \"https://tops-dane-86.hasura.app/v1/graphql\"\n",
    "HASURA_HEADERS = {\"X-Hasura-Admin-Secret\": HASURA_ADMIN_SECRET}\n",
    "\n",
    "\n",
    "################\n",
    "# GRAPHQL CLIENT\n",
    "################\n",
    "\n",
    "@dataclass\n",
    "class Client:\n",
    "    url: str\n",
    "    headers: dict\n",
    "\n",
    "    def run_query(self, query: str, variables: dict, extract=False):\n",
    "        request = requests.post(\n",
    "            self.url,\n",
    "            headers=self.headers,\n",
    "            json={\"query\": query, \"variables\": variables},\n",
    "        )\n",
    "        assert request.ok, f\"Failed with code {request.status_code}\"\n",
    "        return request.json()\n",
    "    \n",
    "    get_articles = lambda self: self.run_query(\n",
    "        \"\"\"\n",
    "            query GetArticles {\n",
    "                Article{\n",
    "                    id\n",
    "                    title\n",
    "                }\n",
    "            }\n",
    "        \"\"\",\n",
    "        {},\n",
    "    )\n",
    "\n",
    "    create_article = lambda self, idx, title: self.run_query(\n",
    "        \"\"\"\n",
    "            mutation CreateArtile($idx: String!, $title: String!) {\n",
    "                insert_Article_one(object: {id: $idx, title: $title}) {\n",
    "                    id\n",
    "                    \n",
    "                }\n",
    "            }\n",
    "        \"\"\",\n",
    "        {\"idx\": idx, \"title\": title},\n",
    "    )\n",
    "\n",
    "\n",
    "client = Client(url=HASURA_URL, headers=HASURA_HEADERS)\n",
    "\n",
    "client.get_articles()"
   ]
  },
  {
   "cell_type": "code",
   "execution_count": 47,
   "metadata": {},
   "outputs": [
    {
     "data": {
      "text/plain": [
       "{'data': {'insert_Article_one': {'id': 'tech.anasio.com/test'}}}"
      ]
     },
     "execution_count": 47,
     "metadata": {},
     "output_type": "execute_result"
    }
   ],
   "source": [
    "client.create_article(idx = 'tech.anasio.com/test' , \n",
    "                     title = 'test article')"
   ]
  },
  {
   "cell_type": "code",
   "execution_count": null,
   "metadata": {},
   "outputs": [],
   "source": []
  }
 ],
 "metadata": {
  "kernelspec": {
   "display_name": "Python 3.9.1 64-bit",
   "language": "python",
   "name": "python3"
  },
  "language_info": {
   "codemirror_mode": {
    "name": "ipython",
    "version": 3
   },
   "file_extension": ".py",
   "mimetype": "text/x-python",
   "name": "python",
   "nbconvert_exporter": "python",
   "pygments_lexer": "ipython3",
   "version": "3.9.1"
  },
  "orig_nbformat": 4,
  "vscode": {
   "interpreter": {
    "hash": "aee8b7b246df8f9039afb4144a1f6fd8d2ca17a180786b69acc140d282b71a49"
   }
  }
 },
 "nbformat": 4,
 "nbformat_minor": 2
}
