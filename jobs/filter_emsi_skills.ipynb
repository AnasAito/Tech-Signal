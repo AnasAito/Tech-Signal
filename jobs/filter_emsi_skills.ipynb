{
 "cells": [
  {
   "cell_type": "code",
   "execution_count": 34,
   "metadata": {},
   "outputs": [],
   "source": [
    "# native packs\n",
    "import requests\n",
    "import json\n",
    "# installed packs\n",
    "import pandas as pd\n",
    "from pandas import json_normalize\n",
    "\n",
    "\n",
    "auth_endpoint = \"https://auth.emsicloud.com/connect/token\"  # auth endpoint\n",
    "\n",
    "# replace 'your_client_id' with your client id from your api invite email\n",
    "client_id = \"5f379hywuvh7fvan\"\n",
    "# replace 'your_client_secret' with your client secret from your api invite email\n",
    "client_secret = \"hfCkXQEy\"\n",
    "scope = \"emsi_open\"  # ok to leave as is, this is the scope we will used\n",
    "\n",
    "# set credentials and scope\n",
    "payload = f\"client_id={client_id}&client_secret={client_secret}&grant_type=client_credentials&scope={scope}\"\n",
    "# headers for the response\n",
    "headers = {'content-type': 'application/x-www-form-urlencoded'}\n",
    "access_token = json.loads((requests.request(\"POST\", auth_endpoint, data=payload, headers=headers)).text)[\n",
    "    'access_token']  # grabs request's text and loads as JSON, then pulls the access token from that\n",
    "\n",
    "fields = [\n",
    "      \"id\",\n",
    "      \"type\",\n",
    "      \"name\",\n",
    "      \"isSoftware\",\n",
    "      \"infoUrl\",\n",
    "      \"tags\",\n",
    "      \"isLanguage\",\n",
    "      \"description\",\n",
    "      \"descriptionSource\",\n",
    "      \"category\",\n",
    "      \"subcategory\"\n",
    "    ]\n",
    "fields_str = ','.join(fields)\n",
    "\n",
    "querystring = { \"fields\":fields_str}\n",
    "\n",
    "def fetch_skills_list() -> pd.DataFrame:\n",
    "\n",
    "    # List of all skills endpoint\n",
    "    all_skills_endpoint = \"https://emsiservices.com/skills/versions/latest/skills\"\n",
    "    # Auth string including access token from above\n",
    "    auth = f\"Authorization: Bearer {access_token}\"\n",
    "    headers = {'authorization': auth}  # headers\n",
    "    response = requests.request(\n",
    "        \"GET\", all_skills_endpoint, headers=headers,params = querystring)  # response\n",
    "    response = response.json()['data']  # the data\n",
    "\n",
    "    # all_skills_df = pd.DataFrame(json_normalize(response)); # Where response is a JSON object drilled down to the level of 'data' key\n",
    "    return response"
   ]
  },
  {
   "cell_type": "code",
   "execution_count": 35,
   "metadata": {},
   "outputs": [],
   "source": [
    "response = fetch_skills_list()"
   ]
  },
  {
   "cell_type": "code",
   "execution_count": 36,
   "metadata": {},
   "outputs": [],
   "source": [
    "all_skills_df = pd.DataFrame(json_normalize(response))"
   ]
  },
  {
   "cell_type": "code",
   "execution_count": 49,
   "metadata": {},
   "outputs": [
    {
     "data": {
      "text/plain": [
       "array(['NULL', 'Information Technology',\n",
       "       'Maintenance, Repair, and Facility Services',\n",
       "       'Architecture and Construction', 'Design', 'Engineering',\n",
       "       'Media and Communications', 'Business', 'Health Care', 'Finance',\n",
       "       'Human Resources', 'Manufacturing and Production',\n",
       "       'Marketing and Public Relations', 'Energy and Utilities',\n",
       "       'Customer and Client Support', 'Education and Training',\n",
       "       'Public Safety and National Security', 'Science and Research',\n",
       "       'Analysis', 'Environment',\n",
       "       'Transportation, Supply Chain, and Logistics',\n",
       "       'Physical and Inherent Abilities', 'Administration',\n",
       "       'Law, Regulation, and Compliance', 'Social and Human Services',\n",
       "       'Sales', 'Performing Arts, Sports, and Recreation',\n",
       "       'Economics, Policy, and Social Studies',\n",
       "       'Agriculture, Horticulture, and Landscaping',\n",
       "       'Personal Care and Services', 'Hospitality and Food Services',\n",
       "       'Property and Real Estate', nan], dtype=object)"
      ]
     },
     "execution_count": 49,
     "metadata": {},
     "output_type": "execute_result"
    }
   ],
   "source": [
    "all_skills_df['category.name'].unique()"
   ]
  },
  {
   "cell_type": "code",
   "execution_count": 53,
   "metadata": {},
   "outputs": [],
   "source": [
    "skills_ids = all_skills_df[all_skills_df['category.name']=='Information Technology']['id'].values\n",
    "data = {\n",
    "    'description' : 'category in [Information Technology,] ',\n",
    "    'skills' : list(skills_ids)\n",
    "}\n"
   ]
  },
  {
   "cell_type": "code",
   "execution_count": 54,
   "metadata": {},
   "outputs": [],
   "source": [
    "import json \n",
    "with open('../data/filtred_skills.json', 'w') as outfile:\n",
    "    json.dump(data, outfile)\n"
   ]
  },
  {
   "cell_type": "code",
   "execution_count": null,
   "metadata": {},
   "outputs": [],
   "source": []
  }
 ],
 "metadata": {
  "kernelspec": {
   "display_name": "Python 3.10.4 64-bit",
   "language": "python",
   "name": "python3"
  },
  "language_info": {
   "codemirror_mode": {
    "name": "ipython",
    "version": 3
   },
   "file_extension": ".py",
   "mimetype": "text/x-python",
   "name": "python",
   "nbconvert_exporter": "python",
   "pygments_lexer": "ipython3",
   "version": "3.10.4"
  },
  "orig_nbformat": 4,
  "vscode": {
   "interpreter": {
    "hash": "3ad933181bd8a04b432d3370b9dc3b0662ad032c4dfaa4e4f1596c548f763858"
   }
  }
 },
 "nbformat": 4,
 "nbformat_minor": 2
}
