{
 "cells": [
  {
   "cell_type": "code",
   "execution_count": 8,
   "metadata": {},
   "outputs": [
    {
     "data": {
      "text/plain": [
       "'/workspaces/Tech-Signal'"
      ]
     },
     "execution_count": 8,
     "metadata": {},
     "output_type": "execute_result"
    }
   ],
   "source": [
    "import os\n",
    "os.chdir(\"..\")\n",
    "os.getcwd()\n"
   ]
  },
  {
   "cell_type": "code",
   "execution_count": 14,
   "metadata": {},
   "outputs": [
    {
     "name": "stdout",
     "output_type": "stream",
     "text": [
      "loading full_matcher ...\n",
      "loading abv_matcher ...\n",
      "loading full_uni_matcher ...\n",
      "loading low_form_matcher ...\n",
      "loading token_matcher ...\n"
     ]
    },
    {
     "ename": "ModuleNotFoundError",
     "evalue": "No module named 'extractnet'",
     "output_type": "error",
     "traceback": [
      "\u001b[0;31m---------------------------------------------------------------------------\u001b[0m",
      "\u001b[0;31mModuleNotFoundError\u001b[0m                       Traceback (most recent call last)",
      "Cell \u001b[0;32mIn [14], line 21\u001b[0m\n\u001b[1;32m     18\u001b[0m skill_extractor \u001b[39m=\u001b[39m SkillExtractor(nlp, SKILL_DB_FILTRED, PhraseMatcher)\n\u001b[1;32m     20\u001b[0m \u001b[39m# content extractor\u001b[39;00m\n\u001b[0;32m---> 21\u001b[0m \u001b[39mfrom\u001b[39;00m \u001b[39mextractnet\u001b[39;00m \u001b[39mimport\u001b[39;00m Extractor\n\u001b[1;32m     23\u001b[0m text_extractor \u001b[39m=\u001b[39m Extractor()\n",
      "\u001b[0;31mModuleNotFoundError\u001b[0m: No module named 'extractnet'"
     ]
    }
   ],
   "source": [
    "# pipeline inputs\n",
    "import json \n",
    "# skill extractor\n",
    "import spacy\n",
    "from spacy.matcher import PhraseMatcher\n",
    "\n",
    "from skillNer.general_params import SKILL_DB\n",
    "from skillNer.skill_extractor_class import SkillExtractor\n",
    "\n",
    "# filter skill_db \n",
    "with open('data/filtred_skills.json') as f:\n",
    "  filtred_skills = json.load(f)\n",
    "filtred_skills_ids = filtred_skills['skills']\n",
    "SKILL_DB_FILTRED = {k:v for k, v in SKILL_DB.items() if k in filtred_skills_ids}\n",
    "\n",
    "# load \n",
    "nlp = spacy.load(\"en_core_web_lg\")\n",
    "skill_extractor = SkillExtractor(nlp, SKILL_DB_FILTRED, PhraseMatcher)\n",
    "\n",
    "# content extractor\n",
    "from extractnet import Extractor\n",
    "\n",
    "text_extractor = Extractor()"
   ]
  },
  {
   "cell_type": "code",
   "execution_count": null,
   "metadata": {},
   "outputs": [],
   "source": [
    "# run pipeline\n",
    "from py_scripts.single_blog_pipeline import single_blog_pipeline"
   ]
  },
  {
   "cell_type": "code",
   "execution_count": 4,
   "metadata": {},
   "outputs": [
    {
     "data": {
      "text/plain": [
       "16"
      ]
     },
     "execution_count": 4,
     "metadata": {},
     "output_type": "execute_result"
    }
   ],
   "source": [
    "top_k_blogs = [{\n",
    "\t\t\t\t\t\t\"_type\": \"rss\",\n",
    "\t\t\t\t\t\t\"_text\": \"Dropbox\",\n",
    "\t\t\t\t\t\t\"_title\": \"Dropbox\",\n",
    "\t\t\t\t\t\t\"_xmlUrl\": \"https://blogs.dropbox.com/tech/feed/\",\n",
    "\t\t\t\t\t\t\"_htmlUrl\": \"https://blogs.dropbox.com/tech/\"\n",
    "\t\t\t\t\t},\n",
    "                    {\n",
    "\t\t\t\t\t\t\"_type\": \"rss\",\n",
    "\t\t\t\t\t\t\"_text\": \"Netflix\",\n",
    "\t\t\t\t\t\t\"_title\": \"Netflix\",\n",
    "\t\t\t\t\t\t\"_xmlUrl\": \"https://medium.com/feed/netflix-techblog\",\n",
    "\t\t\t\t\t\t\"_htmlUrl\": \"https://medium.com/netflix-techblog\"\n",
    "\t\t\t\t\t},\n",
    "                    {\n",
    "\t\t\t\t\t\t\"_type\": \"rss\",\n",
    "\t\t\t\t\t\t\"_text\": \"Cloudera\",\n",
    "\t\t\t\t\t\t\"_title\": \"Cloudera\",\n",
    "\t\t\t\t\t\t\"_xmlUrl\": \"https://blog.cloudera.com/feed/\",\n",
    "\t\t\t\t\t\t\"_htmlUrl\": \"https://blog.cloudera.com/\"\n",
    "\t\t\t\t\t},\n",
    "                    \t{\n",
    "\t\t\t\t\t\t\"_type\": \"rss\",\n",
    "\t\t\t\t\t\t\"_text\": \"Pinterest\",\n",
    "\t\t\t\t\t\t\"_title\": \"Pinterest\",\n",
    "\t\t\t\t\t\t\"_xmlUrl\": \"https://medium.com/feed/@Pinterest_Engineering\",\n",
    "\t\t\t\t\t\t\"_htmlUrl\": \"https://medium.com/@Pinterest_Engineering\"\n",
    "\t\t\t\t\t},\n",
    "                    \t{\n",
    "\t\t\t\t\t\t\"_type\": \"rss\",\n",
    "\t\t\t\t\t\t\"_text\": \"Uber\",\n",
    "\t\t\t\t\t\t\"_title\": \"Uber\",\n",
    "\t\t\t\t\t\t\"_xmlUrl\": \"https://eng.uber.com/feed/\",\n",
    "\t\t\t\t\t\t\"_htmlUrl\": \"http://eng.uber.com/\"\n",
    "\t\t\t\t\t},\n",
    "                    {\n",
    "\t\t\t\t\t\t\"_type\": \"rss\",\n",
    "\t\t\t\t\t\t\"_text\": \"Twitter\",\n",
    "\t\t\t\t\t\t\"_title\": \"Twitter\",\n",
    "\t\t\t\t\t\t\"_xmlUrl\": \"https://blog.twitter.com/engineering/feed\",\n",
    "\t\t\t\t\t\t\"_htmlUrl\": \"https://blog.twitter.com/engineering\"\n",
    "\t\t\t\t\t},\n",
    "                    {\n",
    "\t\t\t\t\t\t\"_type\": \"rss\",\n",
    "\t\t\t\t\t\t\"_text\": \"Facebook\",\n",
    "\t\t\t\t\t\t\"_title\": \"Facebook\",\n",
    "\t\t\t\t\t\t\"_xmlUrl\": \"https://code.fb.com/feed/\",\n",
    "\t\t\t\t\t\t\"_htmlUrl\": \"https://code.facebook.com/posts/\"\n",
    "\t\t\t\t\t},\n",
    "                    {\n",
    "\t\t\t\t\t\t\"_type\": \"rss\",\n",
    "\t\t\t\t\t\t\"_text\": \"WalmartLabs\",\n",
    "\t\t\t\t\t\t\"_title\": \"WalmartLabs\",\n",
    "\t\t\t\t\t\t\"_xmlUrl\": \"https://medium.com/feed/walmartlabs\",\n",
    "\t\t\t\t\t\t\"_htmlUrl\": \"https://medium.com/walmartlabs/\"\n",
    "\t\t\t\t\t},\n",
    "                    {\n",
    "\t\t\t\t\t\t\"_type\": \"rss\",\n",
    "\t\t\t\t\t\t\"_text\": \"Square\",\n",
    "\t\t\t\t\t\t\"_title\": \"Square\",\n",
    "\t\t\t\t\t\t\"_xmlUrl\": \"https://medium.com/feed/square-corner-blog\",\n",
    "\t\t\t\t\t\t\"_htmlUrl\": \"https://corner.squareup.com/\"\n",
    "\t\t\t\t\t},\n",
    "                    {\n",
    "\t\t\t\t\t\t\"_type\": \"rss\",\n",
    "\t\t\t\t\t\t\"_text\": \"Medium\",\n",
    "\t\t\t\t\t\t\"_title\": \"Medium\",\n",
    "\t\t\t\t\t\t\"_xmlUrl\": \"https://medium.engineering/feed\",\n",
    "\t\t\t\t\t\t\"_htmlUrl\": \"https://medium.com/medium-eng\"\n",
    "\t\t\t\t\t},\n",
    "                    {\n",
    "\t\t\t\t\t\t\"_type\": \"rss\",\n",
    "\t\t\t\t\t\t\"_text\": \"Airbnb\",\n",
    "\t\t\t\t\t\t\"_title\": \"Airbnb\",\n",
    "\t\t\t\t\t\t\"_xmlUrl\": \"https://medium.com/feed/airbnb-engineering\",\n",
    "\t\t\t\t\t\t\"_htmlUrl\": \"https://medium.com/airbnb-engineering\"\n",
    "\t\t\t\t\t},\n",
    "                    {\n",
    "\t\t\t\t\t\t\"_type\": \"rss\",\n",
    "\t\t\t\t\t\t\"_text\": \"GitHub\",\n",
    "\t\t\t\t\t\t\"_title\": \"GitHub\",\n",
    "\t\t\t\t\t\t\"_xmlUrl\": \"https://githubengineering.com/atom.xml\",\n",
    "\t\t\t\t\t\t\"_htmlUrl\": \"https://githubengineering.com/\"\n",
    "\t\t\t\t\t},\n",
    "                    {\n",
    "\t\t\t\t\t\t\"_type\": \"rss\",\n",
    "\t\t\t\t\t\t\"_text\": \"Paypal\",\n",
    "\t\t\t\t\t\t\"_title\": \"Paypal\",\n",
    "\t\t\t\t\t\t\"_xmlUrl\": \"https://www.paypal-engineering.com/feed/\",\n",
    "\t\t\t\t\t\t\"_htmlUrl\": \"https://www.paypal-engineering.com/\"\n",
    "\t\t\t\t\t},\n",
    "                    {\n",
    "\t\t\t\t\t\t\"_type\": \"rss\",\n",
    "\t\t\t\t\t\t\"_text\": \"Spotify\",\n",
    "\t\t\t\t\t\t\"_title\": \"Spotify\",\n",
    "\t\t\t\t\t\t\"_xmlUrl\": \"https://labs.spotify.com/feed/\",\n",
    "\t\t\t\t\t\t\"_htmlUrl\": \"https://labs.spotify.com/\"\n",
    "\t\t\t\t\t},\n",
    "                    {\n",
    "\t\t\t\t\t\t\"_type\": \"rss\",\n",
    "\t\t\t\t\t\t\"_text\": \"Badoo\",\n",
    "\t\t\t\t\t\t\"_title\": \"Badoo\",\n",
    "\t\t\t\t\t\t\"_xmlUrl\": \"https://techblog.badoo.com/feed.xml\",\n",
    "\t\t\t\t\t\t\"_htmlUrl\": \"https://techblog.badoo.com/\"\n",
    "\t\t\t\t\t},\n",
    "                    {\n",
    "\t\t\t\t\t\t\"_type\": \"rss\",\n",
    "\t\t\t\t\t\t\"_text\": \"Instacart\",\n",
    "\t\t\t\t\t\t\"_title\": \"Instacart\",\n",
    "\t\t\t\t\t\t\"_xmlUrl\": \"https://tech.instacart.com/feed\",\n",
    "\t\t\t\t\t\t\"_htmlUrl\": \"https://tech.instacart.com/\"\n",
    "\t\t\t\t\t},\n",
    "\n",
    "                    ]\n",
    "len(top_k_blogs)"
   ]
  },
  {
   "cell_type": "code",
   "execution_count": 5,
   "metadata": {},
   "outputs": [],
   "source": [
    "import json \n",
    "import feedparser\n",
    "import requests\n",
    "import pprint\n",
    "import json\n",
    "import io\n",
    "import requests\n",
    "from dateutil.parser import parse\n",
    "\n",
    "\n",
    "\n",
    "def parse_date(date_str):\n",
    "    try : \n",
    "        parsed_date= parse(date_str, fuzzy=True)\n",
    "        return f'{parsed_date.month}/{parsed_date.year}'\n",
    "    except : \n",
    "        return ''\n",
    "\n",
    "def format_entry(entry):\n",
    "\n",
    "    return {\n",
    "        'id' : entry.id,\n",
    "        'title' : entry.title,\n",
    "        'link' : entry.link,\n",
    "        'published' : parse_date(entry.updated)\n",
    "    }\n",
    "\n",
    "\n",
    "\n",
    "def get_feed(feed_url): \n",
    "  final_entries = []\n",
    "  # Do request using requests library and timeout\n",
    "  try:\n",
    "      resp = requests.get(feed_url, timeout=10.0)\n",
    "  except :\n",
    "      print(\"error parsing feed ...\", feed_url)\n",
    "      return []\n",
    "\n",
    "  # Put it to memory stream object universal feedparser\n",
    "  content =io. BytesIO(resp.content)\n",
    "\n",
    "  # Parse content\n",
    "  feed = feedparser.parse(content)\n",
    "  entries = feed['entries']\n",
    "  # clean \n",
    "  entries =  [format_entry(entry) for entry in entries]\n",
    "\n",
    "  return [entry for entry in entries if entry!={}]\n",
    "\n"
   ]
  },
  {
   "cell_type": "code",
   "execution_count": 6,
   "metadata": {},
   "outputs": [
    {
     "data": {
      "text/plain": [
       "{'id': 'https://dropbox.tech/infrastructure/abstracting-cloud-storage-backends-with-object-store',\n",
       " 'title': 'Everything in its write place: Cloud storage abstraction with Object Store',\n",
       " 'link': 'https://dropbox.tech/infrastructure/abstracting-cloud-storage-backends-with-object-store',\n",
       " 'published': '10/2022'}"
      ]
     },
     "execution_count": 6,
     "metadata": {},
     "output_type": "execute_result"
    }
   ],
   "source": [
    "rss_feed = top_k_blogs[0]\n",
    "rss_feed_content = get_feed(rss_feed['_xmlUrl'])\n",
    "rss_feed_content[1]"
   ]
  },
  {
   "cell_type": "code",
   "execution_count": 22,
   "metadata": {},
   "outputs": [
    {
     "name": "stdout",
     "output_type": "stream",
     "text": [
      "Dropbox 10 ['10/2022', '10/2022', '9/2022', '8/2022', '8/2022', '7/2022', '6/2022', '5/2022', '4/2022', '4/2022']\n",
      "--------\n",
      "Netflix 10 ['10/2022', '10/2022', '10/2022', '8/2022', '8/2022', '8/2022', '7/2022', '6/2022', '6/2022', '6/2022']\n",
      "--------\n",
      "Cloudera 0 []\n",
      "--------\n",
      "Pinterest 10 ['10/2022', '8/2022', '8/2022', '7/2022', '6/2022', '5/2022', '5/2022', '5/2022', '4/2022', '4/2022']\n",
      "--------\n",
      "Uber 0 []\n",
      "--------\n",
      "Twitter 10 ['', '', '', '', '', '', '', '', '', '']\n",
      "--------\n",
      "Facebook 9 ['10/2022', '9/2022', '9/2022', '9/2022', '9/2022', '9/2022', '9/2022', '9/2022', '8/2022']\n",
      "--------\n",
      "WalmartLabs 0 []\n",
      "--------\n",
      "Square 10 ['6/2020', '4/2019', '4/2019', '4/2019', '4/2019', '4/2019', '4/2019', '4/2019', '4/2019', '4/2019']\n",
      "--------\n",
      "Medium 10 ['5/2022', '5/2022', '4/2022', '6/2021', '5/2021', '5/2021', '2/2021', '12/2020', '12/2020', '10/2020']\n",
      "--------\n",
      "Airbnb 10 ['10/2022', '10/2022', '9/2022', '9/2022', '8/2022', '8/2022', '8/2022', '7/2022', '7/2022', '7/2022']\n",
      "--------\n",
      "GitHub 10 ['10/2022', '10/2022', '10/2022', '9/2022', '9/2022', '9/2022', '9/2022', '9/2022', '9/2022', '9/2022']\n",
      "--------\n",
      "Paypal 0 []\n",
      "--------\n",
      "Spotify 5 ['10/2022', '9/2022', '9/2022', '9/2022', '8/2022']\n",
      "--------\n",
      "Badoo 0 []\n",
      "--------\n",
      "Instacart 10 ['9/2022', '9/2022', '9/2022', '8/2022', '8/2022', '8/2022', '7/2022', '6/2022', '6/2022', '5/2022']\n",
      "--------\n"
     ]
    }
   ],
   "source": [
    "for blog in  top_k_blogs : \n",
    "\n",
    "    rss_feed_content = get_feed(blog['_xmlUrl'])\n",
    "    print(blog['_text'],len(rss_feed_content), [c['published'] for c in rss_feed_content])\n",
    "    print('--------')\n"
   ]
  },
  {
   "cell_type": "code",
   "execution_count": 7,
   "metadata": {},
   "outputs": [
    {
     "data": {
      "text/plain": [
       "{'id': 'https://dropbox.tech/developers/using-oauth-2-0-with-offline-access',\n",
       " 'title': 'Using OAuth 2.0 with offline access',\n",
       " 'link': 'https://dropbox.tech/developers/using-oauth-2-0-with-offline-access',\n",
       " 'published': '10/2022'}"
      ]
     },
     "execution_count": 7,
     "metadata": {},
     "output_type": "execute_result"
    }
   ],
   "source": [
    "article = rss_feed_content[0]\n",
    "single_blog_pipeline(article, text_extractor, skill_extractor)\n"
   ]
  },
  {
   "cell_type": "code",
   "execution_count": null,
   "metadata": {},
   "outputs": [],
   "source": []
  }
 ],
 "metadata": {
  "kernelspec": {
   "display_name": "Python 3.10.4 64-bit",
   "language": "python",
   "name": "python3"
  },
  "language_info": {
   "codemirror_mode": {
    "name": "ipython",
    "version": 3
   },
   "file_extension": ".py",
   "mimetype": "text/x-python",
   "name": "python",
   "nbconvert_exporter": "python",
   "pygments_lexer": "ipython3",
   "version": "3.10.4"
  },
  "orig_nbformat": 4,
  "vscode": {
   "interpreter": {
    "hash": "3ad933181bd8a04b432d3370b9dc3b0662ad032c4dfaa4e4f1596c548f763858"
   }
  }
 },
 "nbformat": 4,
 "nbformat_minor": 2
}
