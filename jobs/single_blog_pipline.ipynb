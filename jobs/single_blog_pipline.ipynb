{
 "cells": [
  {
   "cell_type": "code",
   "execution_count": 1,
   "metadata": {},
   "outputs": [
    {
     "data": {
      "text/plain": [
       "'/Users/mac/Desktop/tech signal'"
      ]
     },
     "execution_count": 1,
     "metadata": {},
     "output_type": "execute_result"
    }
   ],
   "source": [
    "import os\n",
    "os.chdir(\"..\")\n",
    "os.getcwd()"
   ]
  },
  {
   "cell_type": "code",
   "execution_count": 13,
   "metadata": {},
   "outputs": [
    {
     "data": {
      "text/plain": [
       "['py_scripts',\n",
       " '.DS_Store',\n",
       " 'sketches',\n",
       " 'setup.py',\n",
       " '.gitignore',\n",
       " 'skill_db_relax_20.json',\n",
       " 'jobs',\n",
       " '.git',\n",
       " 'data',\n",
       " 'token_dist.json']"
      ]
     },
     "execution_count": 13,
     "metadata": {},
     "output_type": "execute_result"
    }
   ],
   "source": []
  },
  {
   "cell_type": "code",
   "execution_count": 15,
   "metadata": {},
   "outputs": [
    {
     "name": "stdout",
     "output_type": "stream",
     "text": [
      "loading full_matcher ...\n",
      "loading abv_matcher ...\n",
      "loading full_uni_matcher ...\n",
      "loading low_form_matcher ...\n",
      "loading token_matcher ...\n"
     ]
    }
   ],
   "source": [
    "# pipeline inputs\n",
    "import json \n",
    "# skill extractor\n",
    "import spacy\n",
    "from spacy.matcher import PhraseMatcher\n",
    "\n",
    "from skillNer.general_params import SKILL_DB\n",
    "from skillNer.skill_extractor_class import SkillExtractor\n",
    "\n",
    "# filter skill_db \n",
    "with open('data/filtred_skills.json') as f:\n",
    "  filtred_skills = json.load(f)\n",
    "filtred_skills_ids = filtred_skills['skills']\n",
    "SKILL_DB_FILTRED = {k:v for k, v in SKILL_DB.items() if k in filtred_skills_ids}\n",
    "\n",
    "# load \n",
    "nlp = spacy.load(\"en_core_web_lg\")\n",
    "skill_extractor = SkillExtractor(nlp, SKILL_DB_FILTRED, PhraseMatcher)"
   ]
  },
  {
   "cell_type": "code",
   "execution_count": 16,
   "metadata": {},
   "outputs": [],
   "source": [
    "# content extractor\n",
    "from extractnet import Extractor\n",
    "\n",
    "text_extractor = Extractor()"
   ]
  },
  {
   "cell_type": "code",
   "execution_count": 17,
   "metadata": {},
   "outputs": [],
   "source": [
    "# blog\n",
    "blog = {\n",
    "    'id': 'https://8thlight.com/blog/shift-focus-customer-centric/',\n",
    "    'title': 'Shifting Focus Beyond the Backlog to Prioritizing Customer Needs',\n",
    "    'link': 'https://8thlight.com/blog/shift-focus-customer-centric/',\n",
    "    'published': '2022-10-04'\n",
    "}"
   ]
  },
  {
   "cell_type": "code",
   "execution_count": 18,
   "metadata": {},
   "outputs": [],
   "source": [
    "# run pipeline\n",
    "from py_scripts.single_blog_pipeline import single_blog_pipeline\n",
    "\n",
    "\n",
    "single_blog_pipeline(blog, text_extractor, skill_extractor)"
   ]
  },
  {
   "cell_type": "code",
   "execution_count": 19,
   "metadata": {},
   "outputs": [
    {
     "data": {
      "text/plain": [
       "{'id': 'https://8thlight.com/blog/shift-focus-customer-centric/',\n",
       " 'title': 'Shifting Focus Beyond the Backlog to Prioritizing Customer Needs',\n",
       " 'link': 'https://8thlight.com/blog/shift-focus-customer-centric/',\n",
       " 'published': '2022-10-04',\n",
       " 'parsed_skills': [{'skill_id': 'KS122W96T2T9J5PZ0VMP',\n",
       "   'skill_name': 'devops',\n",
       "   'occurrence_id': 'https://8thlight.com/blog/shift-focus-customer-centric/-2-0'},\n",
       "  {'skill_id': 'KS122W96T2T9J5PZ0VMP',\n",
       "   'skill_name': 'devops',\n",
       "   'occurrence_id': 'https://8thlight.com/blog/shift-focus-customer-centric/-3-0'},\n",
       "  {'skill_id': 'KS7G5J170LW5TFR1PHCV',\n",
       "   'skill_name': 'backlog',\n",
       "   'occurrence_id': 'https://8thlight.com/blog/shift-focus-customer-centric/-20-0'},\n",
       "  {'skill_id': 'KS3GF15TWBKG97B9QG64',\n",
       "   'skill_name': 'open source',\n",
       "   'occurrence_id': 'https://8thlight.com/blog/shift-focus-customer-centric/-29-1'},\n",
       "  {'skill_id': 'KS7G5J170LW5TFR1PHCV',\n",
       "   'skill_name': 'backlog',\n",
       "   'occurrence_id': 'https://8thlight.com/blog/shift-focus-customer-centric/-35-0'},\n",
       "  {'skill_id': 'KS7G5J170LW5TFR1PHCV',\n",
       "   'skill_name': 'backlog',\n",
       "   'occurrence_id': 'https://8thlight.com/blog/shift-focus-customer-centric/-41-0'},\n",
       "  {'skill_id': 'KS7G5J170LW5TFR1PHCV',\n",
       "   'skill_name': 'backlog',\n",
       "   'occurrence_id': 'https://8thlight.com/blog/shift-focus-customer-centric/-41-1'},\n",
       "  {'skill_id': 'KS7G5J170LW5TFR1PHCV',\n",
       "   'skill_name': 'backlog',\n",
       "   'occurrence_id': 'https://8thlight.com/blog/shift-focus-customer-centric/-47-1'}],\n",
       " 'list_occurrences': [{'occurrence_id': 'https://8thlight.com/blog/shift-focus-customer-centric/-2-0',\n",
       "   'content': 'design thinking but also a core tenet or \"ideal\" of modern DevOps. Customer focus is one of the'},\n",
       "  {'occurrence_id': 'https://8thlight.com/blog/shift-focus-customer-centric/-3-0',\n",
       "   'content': '5 Ideals of DevOps described by'},\n",
       "  {'occurrence_id': 'https://8thlight.com/blog/shift-focus-customer-centric/-20-0',\n",
       "   'content': \"The heart of the problem was the team's orientation — a business-centric focus versus a customer-centric focus. A business-centric focus centers around completing tickets in a backlog. A\"},\n",
       "  {'occurrence_id': 'https://8thlight.com/blog/shift-focus-customer-centric/-29-1',\n",
       "   'content': ' \"Community\" is a powerful word that energized. It connected to open source, which team members aspired to participate in.'},\n",
       "  {'occurrence_id': 'https://8thlight.com/blog/shift-focus-customer-centric/-35-0',\n",
       "   'content': 'The OKR forced us to collect feedback, accurately measure our progress, and reconnect to our primary goal to ensure we were on the right track. It enabled us to look at the backlog as a function of'},\n",
       "  {'occurrence_id': 'https://8thlight.com/blog/shift-focus-customer-centric/-41-0',\n",
       "   'content': 'As the team evolved, we had a noticeable depth of collective experience. For more experienced folks, merely working off a backlog felt less than engaging. We questioned whether setting up scenarios'},\n",
       "  {'occurrence_id': 'https://8thlight.com/blog/shift-focus-customer-centric/-41-1',\n",
       "   'content': ' where we defined outcomes instead of outputs would lead to more customer focus. Suppose we used customer-focused project charters instead of a predefined backlog to achieve an engaging outcome. Could'},\n",
       "  {'occurrence_id': 'https://8thlight.com/blog/shift-focus-customer-centric/-47-1',\n",
       "   'content': ' Discovering the right solution can be difficult and requires us to go beyond the backlog and work more directly with users. By starting with small experiments, teams can find ways to shift their'}]}"
      ]
     },
     "execution_count": 19,
     "metadata": {},
     "output_type": "execute_result"
    }
   ],
   "source": [
    "blog"
   ]
  },
  {
   "cell_type": "code",
   "execution_count": null,
   "metadata": {},
   "outputs": [],
   "source": []
  }
 ],
 "metadata": {
  "kernelspec": {
   "display_name": "Python 3.9.1 64-bit",
   "language": "python",
   "name": "python3"
  },
  "language_info": {
   "codemirror_mode": {
    "name": "ipython",
    "version": 3
   },
   "file_extension": ".py",
   "mimetype": "text/x-python",
   "name": "python",
   "nbconvert_exporter": "python",
   "pygments_lexer": "ipython3",
   "version": "3.9.1"
  },
  "orig_nbformat": 4,
  "vscode": {
   "interpreter": {
    "hash": "aee8b7b246df8f9039afb4144a1f6fd8d2ca17a180786b69acc140d282b71a49"
   }
  }
 },
 "nbformat": 4,
 "nbformat_minor": 2
}
