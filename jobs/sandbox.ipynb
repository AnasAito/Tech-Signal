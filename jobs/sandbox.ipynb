{
 "cells": [
  {
   "cell_type": "code",
   "execution_count": 21,
   "metadata": {},
   "outputs": [],
   "source": [
    "import json \n",
    "import feedparser\n",
    "import requests\n",
    "import pprint\n",
    "import json\n",
    "import io\n",
    "import requests\n",
    "from extractnet import Extractor"
   ]
  },
  {
   "cell_type": "code",
   "execution_count": 24,
   "metadata": {},
   "outputs": [],
   "source": [
    "def format_entry(entry):\n",
    "  try : \n",
    "    return {\n",
    "        'id' : entry.id,\n",
    "        'title' : entry.title,\n",
    "        'link' : entry.link,\n",
    "        'published' : entry.updated.split('T')[0]\n",
    "    }\n",
    "  except : \n",
    "    return {}\n",
    "\n",
    "def get_feed(feed_url): \n",
    "  final_entries = []\n",
    "  # Do request using requests library and timeout\n",
    "  try:\n",
    "      resp = requests.get(feed_url, timeout=10.0)\n",
    "  except :\n",
    "      print(\"error parsing feed ...\", feed_url)\n",
    "      return []\n",
    "\n",
    "  # Put it to memory stream object universal feedparser\n",
    "  content =io. BytesIO(resp.content)\n",
    "\n",
    "  # Parse content\n",
    "  feed = feedparser.parse(content)\n",
    "  entries = feed['entries']\n",
    "  # clean \n",
    "  entries =  [format_entry(entry) for entry in entries]\n",
    "\n",
    "  return [entry for entry in entries if entry!={}]\n",
    "\n",
    "# url to text content\n",
    "def get_norm_article(article_url):\n",
    "  raw_html = requests.get(article_url).text\n",
    "  results = Extractor().extract(raw_html)\n",
    "  try :\n",
    "    return results['content']\n",
    "  except : \n",
    "    return ''"
   ]
  },
  {
   "cell_type": "code",
   "execution_count": 14,
   "metadata": {},
   "outputs": [],
   "source": [
    "# load rss feed \n",
    "with open('../data/vertopal.com_engineering_blogs.json') as f:\n",
    "  rss_feeds = json.load(f)\n",
    "\n",
    "rss_feeds = rss_feeds['opml']['body']['outline']['outline']"
   ]
  },
  {
   "cell_type": "code",
   "execution_count": 15,
   "metadata": {},
   "outputs": [
    {
     "data": {
      "text/plain": [
       "{'_type': 'rss',\n",
       " '_text': '8th Light',\n",
       " '_title': '8th Light',\n",
       " '_xmlUrl': 'https://8thlight.com/blog/feed/atom.xml',\n",
       " '_htmlUrl': 'https://8thlight.com/blog/'}"
      ]
     },
     "execution_count": 15,
     "metadata": {},
     "output_type": "execute_result"
    }
   ],
   "source": [
    "rss_feeds[0]"
   ]
  },
  {
   "cell_type": "code",
   "execution_count": 27,
   "metadata": {},
   "outputs": [
    {
     "data": {
      "text/plain": [
       "{'id': 'https://8thlight.com/blog/shift-focus-customer-centric/',\n",
       " 'title': 'Shifting Focus Beyond the Backlog to Prioritizing Customer Needs',\n",
       " 'link': 'https://8thlight.com/blog/shift-focus-customer-centric/',\n",
       " 'published': '2022-10-04'}"
      ]
     },
     "execution_count": 27,
     "metadata": {},
     "output_type": "execute_result"
    }
   ],
   "source": [
    "rss_feed = rss_feeds[0]\n",
    "rss_feed_content = get_feed(rss_feed['_xmlUrl'])\n",
    "rss_feed_content[1]"
   ]
  },
  {
   "cell_type": "code",
   "execution_count": 33,
   "metadata": {},
   "outputs": [],
   "source": [
    "article_link = rss_feed_content[1]['link']\n",
    "article_content = get_norm_article(article_link)"
   ]
  },
  {
   "cell_type": "code",
   "execution_count": 35,
   "metadata": {},
   "outputs": [
    {
     "data": {
      "text/plain": [
       "'Recently, I had the opportunity to work with a passionate team that was building an exciting internal product. For the broader organization, the product played a crucial role in achieving its goals. It could unlock new ways for teams to organize and deliver software. However, when I joined the team, a significant knowledge gap became apparent, the customer.'"
      ]
     },
     "execution_count": 35,
     "metadata": {},
     "output_type": "execute_result"
    }
   ],
   "source": [
    "article_content.splitlines()[0]"
   ]
  },
  {
   "cell_type": "code",
   "execution_count": null,
   "metadata": {},
   "outputs": [],
   "source": []
  }
 ],
 "metadata": {
  "kernelspec": {
   "display_name": "Python 3.9.1 64-bit",
   "language": "python",
   "name": "python3"
  },
  "language_info": {
   "codemirror_mode": {
    "name": "ipython",
    "version": 3
   },
   "file_extension": ".py",
   "mimetype": "text/x-python",
   "name": "python",
   "nbconvert_exporter": "python",
   "pygments_lexer": "ipython3",
   "version": "3.9.1"
  },
  "orig_nbformat": 4,
  "vscode": {
   "interpreter": {
    "hash": "aee8b7b246df8f9039afb4144a1f6fd8d2ca17a180786b69acc140d282b71a49"
   }
  }
 },
 "nbformat": 4,
 "nbformat_minor": 2
}
