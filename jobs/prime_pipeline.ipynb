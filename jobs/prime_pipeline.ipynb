{
 "cells": [
  {
   "cell_type": "markdown",
   "metadata": {},
   "source": [
    "input of pipeline\n",
    "- article metadata\n",
    "- content extractor\n",
    "- skill extractor\n",
    "\n",
    "output\n",
    "- set of skills with their occurence"
   ]
  },
  {
   "cell_type": "code",
   "execution_count": 5,
   "metadata": {},
   "outputs": [],
   "source": [
    "# types\n",
    "from typing import TypedDict, List\n",
    "\n",
    "class AricleMetadata(TypedDict):\n",
    "    id: str\n",
    "    title: str\n",
    "    link: str\n",
    "    published: str\n",
    "\n",
    "class ParsedSkill(TypedDict):\n",
    "    skill_id: str\n",
    "    skill_name: str\n",
    "    occurence: str"
   ]
  },
  {
   "cell_type": "code",
   "execution_count": 2,
   "metadata": {},
   "outputs": [
    {
     "name": "stderr",
     "output_type": "stream",
     "text": [
      "/home/codespace/.python/current/lib/python3.10/site-packages/tqdm/auto.py:22: TqdmWarning: IProgress not found. Please update jupyter and ipywidgets. See https://ipywidgets.readthedocs.io/en/stable/user_install.html\n",
      "  from .autonotebook import tqdm as notebook_tqdm\n",
      "2022-10-23 11:43:27.799915: I tensorflow/core/platform/cpu_feature_guard.cc:193] This TensorFlow binary is optimized with oneAPI Deep Neural Network Library (oneDNN) to use the following CPU instructions in performance-critical operations:  AVX2 AVX512F FMA\n",
      "To enable them in other operations, rebuild TensorFlow with the appropriate compiler flags.\n",
      "2022-10-23 11:43:28.531131: W tensorflow/stream_executor/platform/default/dso_loader.cc:64] Could not load dynamic library 'libcudart.so.11.0'; dlerror: libcudart.so.11.0: cannot open shared object file: No such file or directory\n",
      "2022-10-23 11:43:28.531164: I tensorflow/stream_executor/cuda/cudart_stub.cc:29] Ignore above cudart dlerror if you do not have a GPU set up on your machine.\n",
      "2022-10-23 11:43:28.574563: E tensorflow/stream_executor/cuda/cuda_blas.cc:2981] Unable to register cuBLAS factory: Attempting to register factory for plugin cuBLAS when one has already been registered\n",
      "2022-10-23 11:43:33.184924: W tensorflow/stream_executor/platform/default/dso_loader.cc:64] Could not load dynamic library 'libnvinfer.so.7'; dlerror: libnvinfer.so.7: cannot open shared object file: No such file or directory\n",
      "2022-10-23 11:43:33.185134: W tensorflow/stream_executor/platform/default/dso_loader.cc:64] Could not load dynamic library 'libnvinfer_plugin.so.7'; dlerror: libnvinfer_plugin.so.7: cannot open shared object file: No such file or directory\n",
      "2022-10-23 11:43:33.185147: W tensorflow/compiler/tf2tensorrt/utils/py_utils.cc:38] TF-TRT Warning: Cannot dlopen some TensorRT libraries. If you would like to use Nvidia GPU with TensorRT, please make sure the missing libraries mentioned above are installed properly.\n",
      "2022-10-23 11:43:38.737278: W tensorflow/stream_executor/platform/default/dso_loader.cc:64] Could not load dynamic library 'libcuda.so.1'; dlerror: libcuda.so.1: cannot open shared object file: No such file or directory\n",
      "2022-10-23 11:43:38.737322: W tensorflow/stream_executor/cuda/cuda_driver.cc:263] failed call to cuInit: UNKNOWN ERROR (303)\n",
      "2022-10-23 11:43:38.737344: I tensorflow/stream_executor/cuda/cuda_diagnostics.cc:156] kernel driver does not appear to be running on this host (codespaces-ce102e): /proc/driver/nvidia/version does not exist\n"
     ]
    },
    {
     "name": "stdout",
     "output_type": "stream",
     "text": [
      "loading full_matcher ...\n",
      "loading abv_matcher ...\n",
      "loading full_uni_matcher ...\n",
      "loading low_form_matcher ...\n",
      "loading token_matcher ...\n"
     ]
    }
   ],
   "source": [
    "import requests\n",
    "import warnings\n",
    "\n",
    "# inputs example\n",
    "from extractnet import Extractor\n",
    "\n",
    "import spacy\n",
    "from spacy.matcher import PhraseMatcher\n",
    "from skillNer.general_params import SKILL_DB\n",
    "from skillNer.skill_extractor_class import SkillExtractor\n",
    "\n",
    "nlp = spacy.load(\"en_core_web_lg\")\n",
    "skill_extractor = SkillExtractor(nlp, SKILL_DB, PhraseMatcher)"
   ]
  },
  {
   "cell_type": "code",
   "execution_count": 3,
   "metadata": {},
   "outputs": [],
   "source": [
    "article: AricleMetadata = {\n",
    "    'id': 'https://8thlight.com/blog/shift-focus-customer-centric/',\n",
    "    'title': 'Shifting Focus Beyond the Backlog to Prioritizing Customer Needs',\n",
    "    'link': 'https://8thlight.com/blog/shift-focus-customer-centric/',\n",
    "    'published': '2022-10-04'\n",
    "}"
   ]
  },
  {
   "cell_type": "code",
   "execution_count": 4,
   "metadata": {},
   "outputs": [],
   "source": [
    "\n",
    "def parse_content_article(\n",
    "    article: AricleMetadata, \n",
    "    text_extractor: Extractor\n",
    ") -> str:\n",
    "    \"\"\"Parse the raw text content of article.\"\"\"\n",
    "    link = article['link']\n",
    "\n",
    "    raw_html = requests.get(link).text\n",
    "    results = text_extractor.extract(raw_html)\n",
    "    \n",
    "    try :\n",
    "        return results['content']\n",
    "    except : \n",
    "        warnings.warn(\n",
    "            f\"Unable to extract content from article:\\n{link}\"\n",
    "        )"
   ]
  },
  {
   "cell_type": "code",
   "execution_count": 22,
   "metadata": {},
   "outputs": [],
   "source": [
    "test_text = (\n",
    "    \"You are a Python developer with a solid experience in web development \"\n",
    "    \"and can manage projects. You quickly adapt to new environments \"\n",
    "    \"and speak fluently English and French\"\n",
    ")\n",
    "\n",
    "def chunck_content(\n",
    "    content: str, \n",
    "    chunck_size: int=200\n",
    ") -> List[int]:\n",
    "    \"\"\"Partion content into chuncks with at most chunck_size.\n",
    "    \n",
    "    Parameters\n",
    "    ----------\n",
    "    content : str\n",
    "        text to partition.\n",
    "    \n",
    "    chunck_size : int, default 200\n",
    "        Number of caracters in a chunk.\n",
    "\n",
    "    Return\n",
    "    ------s\n",
    "        list_ptr : List[int]\n",
    "            List of pointer such that content[ptr:ptr+1] delimits a chunck.\n",
    "    \"\"\"\n",
    "    # ptr: pointer\n",
    "    nb_ptr = len(content) // chunck_size\n",
    "    list_ptr = []\n",
    "\n",
    "    ptr = 0\n",
    "    for _ in range(nb_ptr):\n",
    "        ptr += chunck_size\n",
    "        if ptr >= len(content):\n",
    "            break\n",
    "        \n",
    "        # avoid ptr that splits words\n",
    "        # ex: \"I want to avoid this Fuc\" --> \"I want to avoid this\"\n",
    "        while content[ptr] != \" \":\n",
    "            ptr -= 1\n",
    "\n",
    "        list_ptr.append(ptr)\n",
    "\n",
    "    return [0] + list_ptr + [len(content)]"
   ]
  },
  {
   "cell_type": "code",
   "execution_count": 23,
   "metadata": {},
   "outputs": [
    {
     "name": "stdout",
     "output_type": "stream",
     "text": [
      "You are a Python\n",
      " developer with a\n",
      " solid experience in\n",
      " web development and\n",
      " can manage\n",
      " projects. You\n",
      " quickly adapt to\n",
      " new environments\n",
      " and speak fluently English and French\n"
     ]
    }
   ],
   "source": [
    "list_ptr = chunck_content(test_text)\n",
    "for i in range(len(list_ptr) - 1):\n",
    "    chunck = test_text[list_ptr[i]:list_ptr[i+1]]\n",
    "    print(chunck)"
   ]
  }
 ],
 "metadata": {
  "kernelspec": {
   "display_name": "Python 3.10.4 64-bit",
   "language": "python",
   "name": "python3"
  },
  "language_info": {
   "codemirror_mode": {
    "name": "ipython",
    "version": 3
   },
   "file_extension": ".py",
   "mimetype": "text/x-python",
   "name": "python",
   "nbconvert_exporter": "python",
   "pygments_lexer": "ipython3",
   "version": "3.10.4"
  },
  "orig_nbformat": 4,
  "vscode": {
   "interpreter": {
    "hash": "3ad933181bd8a04b432d3370b9dc3b0662ad032c4dfaa4e4f1596c548f763858"
   }
  }
 },
 "nbformat": 4,
 "nbformat_minor": 2
}
