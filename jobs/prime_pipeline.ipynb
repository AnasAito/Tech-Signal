{
 "cells": [
  {
   "cell_type": "markdown",
   "metadata": {},
   "source": [
    "input of pipeline\n",
    "- article metadata\n",
    "- content extractor\n",
    "- skill extractor\n",
    "\n",
    "output\n",
    "- set of skills with their occurence"
   ]
  },
  {
   "cell_type": "code",
   "execution_count": 22,
   "metadata": {},
   "outputs": [],
   "source": [
    "# types\n",
    "from typing import TypedDict\n",
    "\n",
    "class AricleMetadata(TypedDict):\n",
    "    id: str\n",
    "    title: str\n",
    "    link: str\n",
    "    published: str\n",
    "\n",
    "class ParsedSkill(TypedDict):\n",
    "    skill_id: str\n",
    "    skill_name: str\n",
    "    occurence: str"
   ]
  },
  {
   "cell_type": "code",
   "execution_count": null,
   "metadata": {},
   "outputs": [],
   "source": [
    "import requests\n",
    "import warnings\n",
    "\n",
    "# inputs example\n",
    "from extractnet import Extractor\n",
    "\n",
    "import spacy\n",
    "from spacy.matcher import PhraseMatcher\n",
    "from skillNer.general_params import SKILL_DB\n",
    "from skillNer.skill_extractor_class import SkillExtractor\n",
    "\n",
    "nlp = spacy.load(\"en_core_web_lg\")\n",
    "skill_extractor = SkillExtractor(nlp, SKILL_DB, PhraseMatcher)"
   ]
  },
  {
   "cell_type": "code",
   "execution_count": 30,
   "metadata": {},
   "outputs": [],
   "source": [
    "article: AricleMetadata = {\n",
    "    'id': 'https://8thlight.com/blog/shift-focus-customer-centric/',\n",
    "    'title': 'Shifting Focus Beyond the Backlog to Prioritizing Customer Needs',\n",
    "    'link': 'https://8thlight.com/blog/shift-focus-customer-centric/',\n",
    "    'published': '2022-10-04'\n",
    "}"
   ]
  },
  {
   "cell_type": "code",
   "execution_count": 32,
   "metadata": {},
   "outputs": [],
   "source": [
    "\n",
    "def parse_content_article(\n",
    "    article: AricleMetadata, \n",
    "    text_extractor: Extractor\n",
    ") -> str:\n",
    "    \"\"\"Parse the raw text content of article.\"\"\"\n",
    "    link = article['link']\n",
    "\n",
    "    raw_html = requests.get(link).text\n",
    "    results = text_extractor.extract(raw_html)\n",
    "    \n",
    "    try :\n",
    "        return results['content']\n",
    "    except : \n",
    "        warnings.warn(\n",
    "            f\"Unable to extract content from article:\\n{link}\"\n",
    "        )"
   ]
  }
 ],
 "metadata": {
  "kernelspec": {
   "display_name": "Python 3.10.4 64-bit",
   "language": "python",
   "name": "python3"
  },
  "language_info": {
   "codemirror_mode": {
    "name": "ipython",
    "version": 3
   },
   "file_extension": ".py",
   "mimetype": "text/x-python",
   "name": "python",
   "nbconvert_exporter": "python",
   "pygments_lexer": "ipython3",
   "version": "3.10.4"
  },
  "orig_nbformat": 4,
  "vscode": {
   "interpreter": {
    "hash": "3ad933181bd8a04b432d3370b9dc3b0662ad032c4dfaa4e4f1596c548f763858"
   }
  }
 },
 "nbformat": 4,
 "nbformat_minor": 2
}
